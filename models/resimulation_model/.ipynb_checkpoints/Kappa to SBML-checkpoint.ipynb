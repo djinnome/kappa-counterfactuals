{
 "cells": [
  {
   "cell_type": "code",
   "execution_count": 1,
   "metadata": {},
   "outputs": [],
   "source": [
    "from pysb import Monomer, Parameter, Rule, Observable, Model, Initial"
   ]
  },
  {
   "cell_type": "markdown",
   "metadata": {},
   "source": [
    "# Kappa Counterfactual Resimulation model\n",
    "```kappa\n",
    "%agent: K(d, x{u,p})\n",
    "%agent: S(d, x{u,p})\n",
    "\n",
    "'pK' K(x{u/p}) @ 'mod_rate_slow'\n",
    "'b'  K(d[./1]), S(d[./1]) @ 'on_rate'\n",
    "'u'  K(d[1/.], x{u}), S(d[1/.]) @ 'off_rate_fast'\n",
    "'u*' K(d[1/.], x{p}), S(d[1/.]) @ 'off_rate_slow'\n",
    "'p'  K(d[1]), S(d[1], x{u/p}) @ 'mod_rate'\n",
    "\n",
    "%var: 'VA' 1\n",
    "%var: 'off_rate_fast' 1000 // s^(-1)\n",
    "%var: 'off_rate_slow' 1 // s^(-1)\n",
    "%var: 'mod_rate' 5 // s^(-1)\n",
    "%var: 'mod_rate_slow' 0.05 // s^(-1)\n",
    "%var: 'on_rate' 1 / 'VA' // s^(-1)*M^(-1)\n",
    "\n",
    "%init: 'VA' K(x{u}), S(x{u})\n",
    "\n",
    "// Stop the simulation when a \n",
    "// majority of substrates are phosphorylated:\n",
    "%mod: |S(x{p})| > |S(x{u})| do $STOP ;\n",
    "```"
   ]
  },
  {
   "cell_type": "markdown",
   "metadata": {},
   "source": [
    "# Pysb Counterfactual Resimulation model\n",
    "\n",
    "Its kind of weird, but you have to import a model for everything to work, so we export it to a file here"
   ]
  },
  {
   "cell_type": "code",
   "execution_count": 2,
   "metadata": {
    "scrolled": true
   },
   "outputs": [
    {
     "name": "stdout",
     "output_type": "stream",
     "text": [
      "Overwriting kappa_resimulation_figure2.py\n"
     ]
    }
   ],
   "source": [
    "%%writefile kappa_resimulation_figure2.py\n",
    "from pysb import Monomer, Parameter, Rule, Observable, Model, Initial\n",
    "# instantiate a model\n",
    "Model()\n",
    "\n",
    "# declare monomers\n",
    "Monomer('S', ['d', 'x'], {'x': ['u', 'p']})\n",
    "K = Monomer('K', ['d', 'x'], {'x': ['u', 'p']})\n",
    "\n",
    "# input the parameter values\n",
    "Parameter('off_rate_fast', 1000)\n",
    "Parameter('off_rate_slow', 1)\n",
    "Parameter('mod_rate', 5)\n",
    "Parameter('mod_rate_slow', 0.05)\n",
    "Parameter('on_rate', 1)\n",
    "\n",
    "# now input the rules\n",
    "Rule('pK', K(x='u')  >> K(x='p'), mod_rate_slow)\n",
    "Rule('b', K(d=None) + S(d=None) >> K(d=1) % S(d=1), on_rate)\n",
    "Rule('u', K(d=1,x='u') % S(d=1) >> K(d=None,x='u') + S(d=None), off_rate_fast)\n",
    "Rule('u_slow',K(d=1,x='p') % S(d=1) >> K(d=None,x='p') + S(d=None), off_rate_slow)\n",
    "Rule('p', K(d=1) % S(d=1,x='u') >>  K(d=1) % S(d=1,x='p'), mod_rate)\n",
    "\n",
    "Parameter('K_0', 1000)\n",
    "Parameter('S_0', 100)\n",
    "Initial(K(x='u', d=None), K_0)\n",
    "Initial(S(x='u', d=None), S_0)\n",
    "\n",
    "Observable('obsK', K(x='u'))   \n",
    "Observable('obsS', S(x='u'))\n"
   ]
  },
  {
   "cell_type": "markdown",
   "metadata": {},
   "source": [
    "## Check to make sure all parts work"
   ]
  },
  {
   "cell_type": "code",
   "execution_count": 3,
   "metadata": {},
   "outputs": [
    {
     "data": {
      "text/plain": [
       "ComponentSet([\n",
       " Monomer('S', ['d', 'x'], {'x': ['u', 'p']}),\n",
       " Monomer('K', ['d', 'x'], {'x': ['u', 'p']}),\n",
       " ])"
      ]
     },
     "execution_count": 3,
     "metadata": {},
     "output_type": "execute_result"
    }
   ],
   "source": [
    "import kappa_resimulation_figure2 as m\n",
    "\n",
    "\n",
    "m.model.monomers"
   ]
  },
  {
   "cell_type": "code",
   "execution_count": 9,
   "metadata": {},
   "outputs": [
    {
     "data": {
      "text/plain": [
       "ComponentSet([\n",
       " Parameter('off_rate_fast', 1000.0),\n",
       " Parameter('off_rate_slow', 1.0),\n",
       " Parameter('mod_rate', 5.0),\n",
       " Parameter('mod_rate_slow', 0.05),\n",
       " Parameter('on_rate', 1.0),\n",
       " Parameter('K_0', 1000.0),\n",
       " Parameter('S_0', 100.0),\n",
       " ])"
      ]
     },
     "execution_count": 9,
     "metadata": {},
     "output_type": "execute_result"
    }
   ],
   "source": [
    "m.model.parameters"
   ]
  },
  {
   "cell_type": "code",
   "execution_count": 10,
   "metadata": {},
   "outputs": [
    {
     "data": {
      "text/plain": [
       "ComponentSet([\n",
       " Observable('obsK', K(x='u')),\n",
       " Observable('obsS', S(x='u')),\n",
       " ])"
      ]
     },
     "execution_count": 10,
     "metadata": {},
     "output_type": "execute_result"
    }
   ],
   "source": [
    "m.model.observables"
   ]
  },
  {
   "cell_type": "code",
   "execution_count": 11,
   "metadata": {},
   "outputs": [
    {
     "data": {
      "text/plain": [
       "[Initial(K(d=None, x='u'), K_0), Initial(S(d=None, x='u'), S_0)]"
      ]
     },
     "execution_count": 11,
     "metadata": {},
     "output_type": "execute_result"
    }
   ],
   "source": [
    "m.model.initials"
   ]
  },
  {
   "cell_type": "code",
   "execution_count": 12,
   "metadata": {},
   "outputs": [
    {
     "data": {
      "text/plain": [
       "ComponentSet([\n",
       " Rule('pK', K(x='u') >> K(x='p'), mod_rate_slow),\n",
       " Rule('b', K(d=None) + S(d=None) >> K(d=1) % S(d=1), on_rate),\n",
       " Rule('u', K(d=1, x='u') % S(d=1) >> K(d=None, x='u') + S(d=None), off_rate_fast),\n",
       " Rule('u_slow', K(d=1, x='p') % S(d=1) >> K(d=None, x='p') + S(d=None), off_rate_slow),\n",
       " Rule('p', K(d=1) % S(d=1, x='u') >> K(d=1) % S(d=1, x='p'), mod_rate),\n",
       " ])"
      ]
     },
     "execution_count": 12,
     "metadata": {},
     "output_type": "execute_result"
    }
   ],
   "source": [
    "m.model.rules"
   ]
  },
  {
   "cell_type": "markdown",
   "metadata": {},
   "source": [
    "## We can simulate this model with an ODE (not counterfactually)"
   ]
  },
  {
   "cell_type": "code",
   "execution_count": 4,
   "metadata": {},
   "outputs": [],
   "source": [
    "from pysb.simulator import ScipyOdeSimulator\n",
    "import pylab as pl"
   ]
  },
  {
   "cell_type": "code",
   "execution_count": 5,
   "metadata": {},
   "outputs": [],
   "source": [
    "t = pl.linspace(0, 20000)\n",
    "simres = ScipyOdeSimulator(m.model, tspan=t).run()\n",
    "y_out = simres.all\n"
   ]
  },
  {
   "cell_type": "code",
   "execution_count": 19,
   "metadata": {},
   "outputs": [
    {
     "data": {
      "text/plain": [
       "array([ 1.00000000e+03,  1.37000667e-06, -1.98368814e-12, -1.58580599e-13,\n",
       "        4.59848948e-14,  5.99928131e-15,  4.88848297e-16,  4.30419699e-16,\n",
       "        3.71991101e-16,  3.13562504e-16,  2.55133906e-16,  1.96705308e-16,\n",
       "        1.38276711e-16,  7.98481131e-17,  2.14195154e-17,  2.79603987e-18,\n",
       "        2.69431925e-18,  2.59259863e-18,  2.49087801e-18,  2.38915739e-18,\n",
       "        2.28743677e-18,  2.18571615e-18,  2.08399553e-18,  1.98227491e-18,\n",
       "        1.88055429e-18,  1.77883367e-18,  1.67711305e-18,  1.57539244e-18,\n",
       "        1.47367182e-18,  1.37195120e-18,  1.27023058e-18,  1.16850996e-18,\n",
       "        1.06678934e-18,  9.65068718e-19,  8.63348099e-19,  7.61627480e-19,\n",
       "        6.59906860e-19,  5.58186241e-19,  4.56465621e-19,  3.54745002e-19,\n",
       "        2.53024382e-19,  1.51303763e-19,  4.95831436e-20,  5.01807456e-21,\n",
       "        5.00019975e-21,  4.98232494e-21,  4.96445012e-21,  4.94657531e-21,\n",
       "        4.92870050e-21,  4.91082568e-21])"
      ]
     },
     "execution_count": 19,
     "metadata": {},
     "output_type": "execute_result"
    }
   ],
   "source": [
    "y_out['obsK']"
   ]
  },
  {
   "cell_type": "markdown",
   "metadata": {},
   "source": [
    "# Export this model to SBML"
   ]
  },
  {
   "cell_type": "code",
   "execution_count": 6,
   "metadata": {},
   "outputs": [],
   "source": [
    "from pysb.export import export\n",
    "\n",
    "\n",
    "with open('kappa_resimulation_figure2.sbml', 'w') as out:\n",
    "    sbml = export(m.model, 'sbml')\n",
    "    out.write(sbml)"
   ]
  },
  {
   "cell_type": "code",
   "execution_count": 7,
   "metadata": {},
   "outputs": [
    {
     "name": "stdout",
     "output_type": "stream",
     "text": [
      "<?xml version=\"1.0\" encoding=\"UTF-8\"?>\r\n",
      "<sbml xmlns=\"http://www.sbml.org/sbml/level3/version2/core\" level=\"3\" version=\"2\">\r\n",
      "  <model name=\"kappa_resimulation_figure2\">\r\n",
      "    <listOfCompartments>\r\n",
      "      <compartment id=\"default\" spatialDimensions=\"3\" size=\"1\" constant=\"true\"/>\r\n",
      "    </listOfCompartments>\r\n",
      "    <listOfSpecies>\r\n",
      "      <species id=\"__s0\" name=\"K(d=None, x=&apos;u&apos;)\" compartment=\"default\" hasOnlySubstanceUnits=\"true\" boundaryCondition=\"false\" constant=\"false\"/>\r\n",
      "      <species id=\"__s1\" name=\"S(d=None, x=&apos;u&apos;)\" compartment=\"default\" hasOnlySubstanceUnits=\"true\" boundaryCondition=\"false\" constant=\"false\"/>\r\n",
      "      <species id=\"__s2\" name=\"K(d=None, x=&apos;p&apos;)\" compartment=\"default\" initialAmount=\"0\" hasOnlySubstanceUnits=\"true\" boundaryCondition=\"false\" constant=\"false\"/>\r\n",
      "      <species id=\"__s3\" name=\"K(d=1, x=&apos;u&apos;) ._br_S(d=1, x=&apos;u&apos;)\" compartment=\"default\" initialAmount=\"0\" hasOnlySubstanceUnits=\"true\" boundaryCondition=\"false\" constant=\"false\"/>\r\n",
      "      <species id=\"__s4\" name=\"K(d=1, x=&apos;p&apos;) ._br_S(d=1, x=&apos;u&apos;)\" compartment=\"default\" initialAmount=\"0\" hasOnlySubstanceUnits=\"true\" boundaryCondition=\"false\" constant=\"false\"/>\r\n",
      "      <species id=\"__s5\" name=\"K(d=1, x=&apos;u&apos;) ._br_S(d=1, x=&apos;p&apos;)\" compartment=\"default\" initialAmount=\"0\" hasOnlySubstanceUnits=\"true\" boundaryCondition=\"false\" constant=\"false\"/>\r\n",
      "      <species id=\"__s6\" name=\"K(d=1, x=&apos;p&apos;) ._br_S(d=1, x=&apos;p&apos;)\" compartment=\"default\" initialAmount=\"0\" hasOnlySubstanceUnits=\"true\" boundaryCondition=\"false\" constant=\"false\"/>\r\n",
      "      <species id=\"__s7\" name=\"S(d=None, x=&apos;p&apos;)\" compartment=\"default\" initialAmount=\"0\" hasOnlySubstanceUnits=\"true\" boundaryCondition=\"false\" constant=\"false\"/>\r\n",
      "    </listOfSpecies>\r\n",
      "    <listOfParameters>\r\n",
      "      <parameter id=\"off_rate_fast\" name=\"off_rate_fast\" value=\"1000\" constant=\"true\"/>\r\n",
      "      <parameter id=\"off_rate_slow\" name=\"off_rate_slow\" value=\"1\" constant=\"true\"/>\r\n",
      "      <parameter id=\"mod_rate\" name=\"mod_rate\" value=\"5\" constant=\"true\"/>\r\n",
      "      <parameter id=\"mod_rate_slow\" name=\"mod_rate_slow\" value=\"0.05\" constant=\"true\"/>\r\n",
      "      <parameter id=\"on_rate\" name=\"on_rate\" value=\"1\" constant=\"true\"/>\r\n",
      "      <parameter id=\"K_0\" name=\"K_0\" value=\"1000\" constant=\"true\"/>\r\n",
      "      <parameter id=\"S_0\" name=\"S_0\" value=\"100\" constant=\"true\"/>\r\n",
      "      <parameter id=\"__obs0\" name=\"obsK\" constant=\"false\"/>\r\n",
      "      <parameter id=\"__obs1\" name=\"obsS\" constant=\"false\"/>\r\n",
      "    </listOfParameters>\r\n",
      "    <listOfInitialAssignments>\r\n",
      "      <initialAssignment symbol=\"__s0\">\r\n",
      "        <math xmlns=\"http://www.w3.org/1998/Math/MathML\">\r\n",
      "          <ci> K_0 </ci>\r\n",
      "        </math>\r\n",
      "      </initialAssignment>\r\n",
      "      <initialAssignment symbol=\"__s1\">\r\n",
      "        <math xmlns=\"http://www.w3.org/1998/Math/MathML\">\r\n",
      "          <ci> S_0 </ci>\r\n",
      "        </math>\r\n",
      "      </initialAssignment>\r\n",
      "    </listOfInitialAssignments>\r\n",
      "    <listOfRules>\r\n",
      "      <assignmentRule variable=\"__obs0\">\r\n",
      "        <math xmlns=\"http://www.w3.org/1998/Math/MathML\">\r\n",
      "          <apply>\r\n",
      "            <plus/>\r\n",
      "            <ci> __s0 </ci>\r\n",
      "            <ci> __s3 </ci>\r\n",
      "            <ci> __s5 </ci>\r\n",
      "          </apply>\r\n",
      "        </math>\r\n",
      "      </assignmentRule>\r\n",
      "      <assignmentRule variable=\"__obs1\">\r\n",
      "        <math xmlns=\"http://www.w3.org/1998/Math/MathML\">\r\n",
      "          <apply>\r\n",
      "            <plus/>\r\n",
      "            <ci> __s1 </ci>\r\n",
      "            <ci> __s3 </ci>\r\n",
      "            <ci> __s4 </ci>\r\n",
      "          </apply>\r\n",
      "        </math>\r\n",
      "      </assignmentRule>\r\n",
      "    </listOfRules>\r\n",
      "    <listOfReactions>\r\n",
      "      <reaction id=\"r0\" name=\"pK\" reversible=\"false\">\r\n",
      "        <listOfReactants>\r\n",
      "          <speciesReference species=\"__s0\" constant=\"true\"/>\r\n",
      "        </listOfReactants>\r\n",
      "        <listOfProducts>\r\n",
      "          <speciesReference species=\"__s2\" constant=\"true\"/>\r\n",
      "        </listOfProducts>\r\n",
      "        <kineticLaw>\r\n",
      "          <math xmlns=\"http://www.w3.org/1998/Math/MathML\">\r\n",
      "            <apply>\r\n",
      "              <times/>\r\n",
      "              <ci> __s0 </ci>\r\n",
      "              <ci> mod_rate_slow </ci>\r\n",
      "            </apply>\r\n",
      "          </math>\r\n",
      "        </kineticLaw>\r\n",
      "      </reaction>\r\n",
      "      <reaction id=\"r1\" name=\"b + u\" reversible=\"true\">\r\n",
      "        <listOfReactants>\r\n",
      "          <speciesReference species=\"__s0\" constant=\"true\"/>\r\n",
      "          <speciesReference species=\"__s1\" constant=\"true\"/>\r\n",
      "        </listOfReactants>\r\n",
      "        <listOfProducts>\r\n",
      "          <speciesReference species=\"__s3\" constant=\"true\"/>\r\n",
      "        </listOfProducts>\r\n",
      "        <kineticLaw>\r\n",
      "          <math xmlns=\"http://www.w3.org/1998/Math/MathML\">\r\n",
      "            <apply>\r\n",
      "              <minus/>\r\n",
      "              <apply>\r\n",
      "                <times/>\r\n",
      "                <ci> __s0 </ci>\r\n",
      "                <ci> __s1 </ci>\r\n",
      "                <ci> on_rate </ci>\r\n",
      "              </apply>\r\n",
      "              <apply>\r\n",
      "                <times/>\r\n",
      "                <ci> __s3 </ci>\r\n",
      "                <ci> off_rate_fast </ci>\r\n",
      "              </apply>\r\n",
      "            </apply>\r\n",
      "          </math>\r\n",
      "        </kineticLaw>\r\n",
      "      </reaction>\r\n",
      "      <reaction id=\"r2\" name=\"pK\" reversible=\"false\">\r\n",
      "        <listOfReactants>\r\n",
      "          <speciesReference species=\"__s3\" constant=\"true\"/>\r\n",
      "        </listOfReactants>\r\n",
      "        <listOfProducts>\r\n",
      "          <speciesReference species=\"__s4\" constant=\"true\"/>\r\n",
      "        </listOfProducts>\r\n",
      "        <kineticLaw>\r\n",
      "          <math xmlns=\"http://www.w3.org/1998/Math/MathML\">\r\n",
      "            <apply>\r\n",
      "              <times/>\r\n",
      "              <ci> __s3 </ci>\r\n",
      "              <ci> mod_rate_slow </ci>\r\n",
      "            </apply>\r\n",
      "          </math>\r\n",
      "        </kineticLaw>\r\n",
      "      </reaction>\r\n",
      "      <reaction id=\"r3\" name=\"b + u_slow\" reversible=\"true\">\r\n",
      "        <listOfReactants>\r\n",
      "          <speciesReference species=\"__s1\" constant=\"true\"/>\r\n",
      "          <speciesReference species=\"__s2\" constant=\"true\"/>\r\n",
      "        </listOfReactants>\r\n",
      "        <listOfProducts>\r\n",
      "          <speciesReference species=\"__s4\" constant=\"true\"/>\r\n",
      "        </listOfProducts>\r\n",
      "        <kineticLaw>\r\n",
      "          <math xmlns=\"http://www.w3.org/1998/Math/MathML\">\r\n",
      "            <apply>\r\n",
      "              <minus/>\r\n",
      "              <apply>\r\n",
      "                <times/>\r\n",
      "                <ci> __s1 </ci>\r\n",
      "                <ci> __s2 </ci>\r\n",
      "                <ci> on_rate </ci>\r\n",
      "              </apply>\r\n",
      "              <apply>\r\n",
      "                <times/>\r\n",
      "                <ci> __s4 </ci>\r\n",
      "                <ci> off_rate_slow </ci>\r\n",
      "              </apply>\r\n",
      "            </apply>\r\n",
      "          </math>\r\n",
      "        </kineticLaw>\r\n",
      "      </reaction>\r\n",
      "      <reaction id=\"r4\" name=\"p\" reversible=\"false\">\r\n",
      "        <listOfReactants>\r\n",
      "          <speciesReference species=\"__s3\" constant=\"true\"/>\r\n",
      "        </listOfReactants>\r\n",
      "        <listOfProducts>\r\n",
      "          <speciesReference species=\"__s5\" constant=\"true\"/>\r\n",
      "        </listOfProducts>\r\n",
      "        <kineticLaw>\r\n",
      "          <math xmlns=\"http://www.w3.org/1998/Math/MathML\">\r\n",
      "            <apply>\r\n",
      "              <times/>\r\n",
      "              <ci> __s3 </ci>\r\n",
      "              <ci> mod_rate </ci>\r\n",
      "            </apply>\r\n",
      "          </math>\r\n",
      "        </kineticLaw>\r\n",
      "      </reaction>\r\n",
      "      <reaction id=\"r5\" name=\"pK\" reversible=\"false\">\r\n",
      "        <listOfReactants>\r\n",
      "          <speciesReference species=\"__s5\" constant=\"true\"/>\r\n",
      "        </listOfReactants>\r\n",
      "        <listOfProducts>\r\n",
      "          <speciesReference species=\"__s6\" constant=\"true\"/>\r\n",
      "        </listOfProducts>\r\n",
      "        <kineticLaw>\r\n",
      "          <math xmlns=\"http://www.w3.org/1998/Math/MathML\">\r\n",
      "            <apply>\r\n",
      "              <times/>\r\n",
      "              <ci> __s5 </ci>\r\n",
      "              <ci> mod_rate_slow </ci>\r\n",
      "            </apply>\r\n",
      "          </math>\r\n",
      "        </kineticLaw>\r\n",
      "      </reaction>\r\n",
      "      <reaction id=\"r6\" name=\"u + b\" reversible=\"true\">\r\n",
      "        <listOfReactants>\r\n",
      "          <speciesReference species=\"__s5\" constant=\"true\"/>\r\n",
      "        </listOfReactants>\r\n",
      "        <listOfProducts>\r\n",
      "          <speciesReference species=\"__s0\" constant=\"true\"/>\r\n",
      "          <speciesReference species=\"__s7\" constant=\"true\"/>\r\n",
      "        </listOfProducts>\r\n",
      "        <kineticLaw>\r\n",
      "          <math xmlns=\"http://www.w3.org/1998/Math/MathML\">\r\n",
      "            <apply>\r\n",
      "              <plus/>\r\n",
      "              <apply>\r\n",
      "                <minus/>\r\n",
      "                <apply>\r\n",
      "                  <times/>\r\n",
      "                  <ci> __s0 </ci>\r\n",
      "                  <ci> __s7 </ci>\r\n",
      "                  <ci> on_rate </ci>\r\n",
      "                </apply>\r\n",
      "              </apply>\r\n",
      "              <apply>\r\n",
      "                <times/>\r\n",
      "                <ci> __s5 </ci>\r\n",
      "                <ci> off_rate_fast </ci>\r\n",
      "              </apply>\r\n",
      "            </apply>\r\n",
      "          </math>\r\n",
      "        </kineticLaw>\r\n",
      "      </reaction>\r\n",
      "      <reaction id=\"r7\" name=\"p\" reversible=\"false\">\r\n",
      "        <listOfReactants>\r\n",
      "          <speciesReference species=\"__s4\" constant=\"true\"/>\r\n",
      "        </listOfReactants>\r\n",
      "        <listOfProducts>\r\n",
      "          <speciesReference species=\"__s6\" constant=\"true\"/>\r\n",
      "        </listOfProducts>\r\n",
      "        <kineticLaw>\r\n",
      "          <math xmlns=\"http://www.w3.org/1998/Math/MathML\">\r\n",
      "            <apply>\r\n",
      "              <times/>\r\n",
      "              <ci> __s4 </ci>\r\n",
      "              <ci> mod_rate </ci>\r\n",
      "            </apply>\r\n",
      "          </math>\r\n",
      "        </kineticLaw>\r\n",
      "      </reaction>\r\n",
      "      <reaction id=\"r8\" name=\"b + u_slow\" reversible=\"true\">\r\n",
      "        <listOfReactants>\r\n",
      "          <speciesReference species=\"__s2\" constant=\"true\"/>\r\n",
      "          <speciesReference species=\"__s7\" constant=\"true\"/>\r\n",
      "        </listOfReactants>\r\n",
      "        <listOfProducts>\r\n",
      "          <speciesReference species=\"__s6\" constant=\"true\"/>\r\n",
      "        </listOfProducts>\r\n",
      "        <kineticLaw>\r\n",
      "          <math xmlns=\"http://www.w3.org/1998/Math/MathML\">\r\n",
      "            <apply>\r\n",
      "              <minus/>\r\n",
      "              <apply>\r\n",
      "                <times/>\r\n",
      "                <ci> __s2 </ci>\r\n",
      "                <ci> __s7 </ci>\r\n",
      "                <ci> on_rate </ci>\r\n",
      "              </apply>\r\n",
      "              <apply>\r\n",
      "                <times/>\r\n",
      "                <ci> __s6 </ci>\r\n",
      "                <ci> off_rate_slow </ci>\r\n",
      "              </apply>\r\n",
      "            </apply>\r\n",
      "          </math>\r\n",
      "        </kineticLaw>\r\n",
      "      </reaction>\r\n",
      "    </listOfReactions>\r\n",
      "  </model>\r\n",
      "</sbml>\r\n"
     ]
    }
   ],
   "source": [
    "!cat kappa_resimulation_figure2.sbml"
   ]
  }
 ],
 "metadata": {
  "kernelspec": {
   "display_name": "anaconda3-2020.11",
   "language": "python",
   "name": "anaconda3-2020.11"
  },
  "language_info": {
   "codemirror_mode": {
    "name": "ipython",
    "version": 3
   },
   "file_extension": ".py",
   "mimetype": "text/x-python",
   "name": "python",
   "nbconvert_exporter": "python",
   "pygments_lexer": "ipython3",
   "version": "3.8.5"
  },
  "toc": {
   "base_numbering": 1,
   "nav_menu": {},
   "number_sections": true,
   "sideBar": true,
   "skip_h1_title": false,
   "title_cell": "Table of Contents",
   "title_sidebar": "Contents",
   "toc_cell": false,
   "toc_position": {},
   "toc_section_display": true,
   "toc_window_display": false
  }
 },
 "nbformat": 4,
 "nbformat_minor": 2
}
